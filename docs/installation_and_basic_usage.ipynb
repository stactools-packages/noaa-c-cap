{
 "cells": [
  {
   "cell_type": "markdown",
   "source": [
    "# Tutorial: Working with this stactools subpackage\n",
    "\n",
    "Stactools ([docs](https://stactools.readthedocs.io/en/latest/), [source](https://github.com/stac-utils/stactools)) is a command line tool and library for working with [STAC](https://stacspec.org/), based on [PySTAC](https://github.com/stac-utils/pystac).\n",
    "\n",
    "[Stactools dataset packages](https://github.com/stactools-packages) are add-ons for stactools that provide STAC functionality for specific datasets, such as [Sentinel 2](https://github.com/stactools-packages/sentinel2) and [Landsat](https://github.com/stactools-packages/landsat).\n",
    "\n",
    "Stactools and its dataset packages can be accessed from the CLI or from within normal Python code. This notebook provides examples of both."
   ],
   "metadata": {}
  },
  {
   "cell_type": "markdown",
   "source": [
    "## 1. Using this notebook\n",
    "\n",
    "The easiest way to use this notebook is to run it through `scripts/notebook`. This will create a Docker container already set up with the prerequisites and open the stactools dataset folder. Navigate to `docs/` to find this notebook.\n",
    "\n",
    "If you wish to use this notebook outside of the container (such as on mybinder.org) then please install the prerequisites using:"
   ],
   "metadata": {}
  },
  {
   "cell_type": "code",
   "execution_count": 7,
   "source": [
    "!pip install stactools-noaa-c-cap"
   ],
   "outputs": [
    {
     "output_type": "stream",
     "name": "stdout",
     "text": [
      "Requirement already satisfied: stactools-noaa-c-cap in /Users/gadomski/Code/stactools-packages/noaa-c-cap/src (0.1.0)\n",
      "Requirement already satisfied: stactools==0.2.3 in /Users/gadomski/.virtualenvs/noaa-c-cap/lib/python3.9/site-packages (from stactools-noaa-c-cap) (0.2.3)\n",
      "Requirement already satisfied: requests~=2.25 in /Users/gadomski/.virtualenvs/noaa-c-cap/lib/python3.9/site-packages (from stactools==0.2.3->stactools-noaa-c-cap) (2.26.0)\n",
      "Requirement already satisfied: aiohttp~=3.7 in /Users/gadomski/.virtualenvs/noaa-c-cap/lib/python3.9/site-packages (from stactools==0.2.3->stactools-noaa-c-cap) (3.7.4.post0)\n",
      "Requirement already satisfied: Shapely~=1.7 in /Users/gadomski/.virtualenvs/noaa-c-cap/lib/python3.9/site-packages (from stactools==0.2.3->stactools-noaa-c-cap) (1.7.1)\n",
      "Requirement already satisfied: rasterio~=1.2 in /Users/gadomski/.virtualenvs/noaa-c-cap/lib/python3.9/site-packages (from stactools==0.2.3->stactools-noaa-c-cap) (1.2.7)\n",
      "Requirement already satisfied: click~=7.1 in /Users/gadomski/.virtualenvs/noaa-c-cap/lib/python3.9/site-packages (from stactools==0.2.3->stactools-noaa-c-cap) (7.1.2)\n",
      "Requirement already satisfied: pystac[validation]~=1.1 in /Users/gadomski/.virtualenvs/noaa-c-cap/lib/python3.9/site-packages (from stactools==0.2.3->stactools-noaa-c-cap) (1.1.0)\n",
      "Requirement already satisfied: fsspec~=2021.7 in /Users/gadomski/.virtualenvs/noaa-c-cap/lib/python3.9/site-packages (from stactools==0.2.3->stactools-noaa-c-cap) (2021.8.1)\n",
      "Requirement already satisfied: pyproj~=3.0 in /Users/gadomski/.virtualenvs/noaa-c-cap/lib/python3.9/site-packages (from stactools==0.2.3->stactools-noaa-c-cap) (3.2.0)\n",
      "Requirement already satisfied: lxml~=4.6 in /Users/gadomski/.virtualenvs/noaa-c-cap/lib/python3.9/site-packages (from stactools==0.2.3->stactools-noaa-c-cap) (4.6.3)\n",
      "Requirement already satisfied: typing-extensions>=3.6.5 in /Users/gadomski/.virtualenvs/noaa-c-cap/lib/python3.9/site-packages (from aiohttp~=3.7->stactools==0.2.3->stactools-noaa-c-cap) (3.10.0.2)\n",
      "Requirement already satisfied: async-timeout<4.0,>=3.0 in /Users/gadomski/.virtualenvs/noaa-c-cap/lib/python3.9/site-packages (from aiohttp~=3.7->stactools==0.2.3->stactools-noaa-c-cap) (3.0.1)\n",
      "Requirement already satisfied: chardet<5.0,>=2.0 in /Users/gadomski/.virtualenvs/noaa-c-cap/lib/python3.9/site-packages (from aiohttp~=3.7->stactools==0.2.3->stactools-noaa-c-cap) (4.0.0)\n",
      "Requirement already satisfied: yarl<2.0,>=1.0 in /Users/gadomski/.virtualenvs/noaa-c-cap/lib/python3.9/site-packages (from aiohttp~=3.7->stactools==0.2.3->stactools-noaa-c-cap) (1.6.3)\n",
      "Requirement already satisfied: attrs>=17.3.0 in /Users/gadomski/.virtualenvs/noaa-c-cap/lib/python3.9/site-packages (from aiohttp~=3.7->stactools==0.2.3->stactools-noaa-c-cap) (21.2.0)\n",
      "Requirement already satisfied: multidict<7.0,>=4.5 in /Users/gadomski/.virtualenvs/noaa-c-cap/lib/python3.9/site-packages (from aiohttp~=3.7->stactools==0.2.3->stactools-noaa-c-cap) (5.1.0)\n",
      "Requirement already satisfied: certifi in /Users/gadomski/.virtualenvs/noaa-c-cap/lib/python3.9/site-packages (from pyproj~=3.0->stactools==0.2.3->stactools-noaa-c-cap) (2021.5.30)\n",
      "Requirement already satisfied: python-dateutil>=2.7.0 in /Users/gadomski/.virtualenvs/noaa-c-cap/lib/python3.9/site-packages (from pystac[validation]~=1.1->stactools==0.2.3->stactools-noaa-c-cap) (2.8.2)\n",
      "Requirement already satisfied: jsonschema>=3.0 in /Users/gadomski/.virtualenvs/noaa-c-cap/lib/python3.9/site-packages (from pystac[validation]~=1.1->stactools==0.2.3->stactools-noaa-c-cap) (3.2.0)\n",
      "Requirement already satisfied: pyrsistent>=0.14.0 in /Users/gadomski/.virtualenvs/noaa-c-cap/lib/python3.9/site-packages (from jsonschema>=3.0->pystac[validation]~=1.1->stactools==0.2.3->stactools-noaa-c-cap) (0.18.0)\n",
      "Requirement already satisfied: six>=1.11.0 in /Users/gadomski/.virtualenvs/noaa-c-cap/lib/python3.9/site-packages (from jsonschema>=3.0->pystac[validation]~=1.1->stactools==0.2.3->stactools-noaa-c-cap) (1.16.0)\n",
      "Requirement already satisfied: setuptools in /Users/gadomski/.virtualenvs/noaa-c-cap/lib/python3.9/site-packages (from jsonschema>=3.0->pystac[validation]~=1.1->stactools==0.2.3->stactools-noaa-c-cap) (57.4.0)\n",
      "Requirement already satisfied: snuggs>=1.4.1 in /Users/gadomski/.virtualenvs/noaa-c-cap/lib/python3.9/site-packages (from rasterio~=1.2->stactools==0.2.3->stactools-noaa-c-cap) (1.4.7)\n",
      "Requirement already satisfied: click-plugins in /Users/gadomski/.virtualenvs/noaa-c-cap/lib/python3.9/site-packages (from rasterio~=1.2->stactools==0.2.3->stactools-noaa-c-cap) (1.1.1)\n",
      "Requirement already satisfied: numpy in /Users/gadomski/.virtualenvs/noaa-c-cap/lib/python3.9/site-packages (from rasterio~=1.2->stactools==0.2.3->stactools-noaa-c-cap) (1.21.2)\n",
      "Requirement already satisfied: affine in /Users/gadomski/.virtualenvs/noaa-c-cap/lib/python3.9/site-packages (from rasterio~=1.2->stactools==0.2.3->stactools-noaa-c-cap) (2.3.0)\n",
      "Requirement already satisfied: cligj>=0.5 in /Users/gadomski/.virtualenvs/noaa-c-cap/lib/python3.9/site-packages (from rasterio~=1.2->stactools==0.2.3->stactools-noaa-c-cap) (0.7.2)\n",
      "Requirement already satisfied: idna<4,>=2.5 in /Users/gadomski/.virtualenvs/noaa-c-cap/lib/python3.9/site-packages (from requests~=2.25->stactools==0.2.3->stactools-noaa-c-cap) (3.2)\n",
      "Requirement already satisfied: charset-normalizer~=2.0.0 in /Users/gadomski/.virtualenvs/noaa-c-cap/lib/python3.9/site-packages (from requests~=2.25->stactools==0.2.3->stactools-noaa-c-cap) (2.0.4)\n",
      "Requirement already satisfied: urllib3<1.27,>=1.21.1 in /Users/gadomski/.virtualenvs/noaa-c-cap/lib/python3.9/site-packages (from requests~=2.25->stactools==0.2.3->stactools-noaa-c-cap) (1.26.6)\n",
      "Requirement already satisfied: pyparsing>=2.1.6 in /Users/gadomski/.virtualenvs/noaa-c-cap/lib/python3.9/site-packages (from snuggs>=1.4.1->rasterio~=1.2->stactools==0.2.3->stactools-noaa-c-cap) (2.4.7)\n"
     ]
    }
   ],
   "metadata": {}
  },
  {
   "cell_type": "markdown",
   "source": [
    "## 2. Using the stactools dataset package from the CLI"
   ],
   "metadata": {}
  },
  {
   "cell_type": "markdown",
   "source": [
    "The first thing we can do is check that the `stac` CLI tool is installed and explore the options. Notice the inclusion of the command for this dataset package in stactools now."
   ],
   "metadata": {}
  },
  {
   "cell_type": "code",
   "execution_count": 8,
   "source": [
    "!stac"
   ],
   "outputs": [
    {
     "output_type": "stream",
     "name": "stdout",
     "text": [
      "Usage: stac [OPTIONS] COMMAND [ARGS]...\n",
      "\n",
      "Options:\n",
      "  -v, --verbose  Use verbose mode\n",
      "  -q, --quiet    Use quiet mode (no output)\n",
      "  --help         Show this message and exit.\n",
      "\n",
      "Commands:\n",
      "  add          Add an item to a catalog/collection.\n",
      "  copy         Copy a STAC Catalog\n",
      "  create-item  Creates an item from an asset\n",
      "  describe     Prints out a list of all catalogs, collections and items in\n",
      "               this STAC.\n",
      "\n",
      "  info         Display info about a static STAC catalog.\n",
      "  layout       Reformat the layout of a STAC based on templating.\n",
      "  merge        Merge items from one STAC into another.\n",
      "  move-assets  Move or copy assets in a STAC to the Item locations.\n",
      "  noaa-c-cap   Commands for working with stactools-noaa-c-cap\n",
      "  validate     Validate a stac object.\n",
      "  version      Display version info.\n"
     ]
    }
   ],
   "metadata": {}
  },
  {
   "cell_type": "markdown",
   "source": [
    "You can now explore the STAC dataset package commands to ingest and describe the data"
   ],
   "metadata": {}
  },
  {
   "cell_type": "code",
   "execution_count": 9,
   "source": [
    "!stac noaa-c-cap --help"
   ],
   "outputs": [
    {
     "output_type": "stream",
     "name": "stdout",
     "text": [
      "Usage: stac noaa-c-cap [OPTIONS] COMMAND [ARGS]...\n",
      "\n",
      "Options:\n",
      "  --help  Show this message and exit.\n",
      "\n",
      "Commands:\n",
      "  create-collection  Creates a STAC collection\n",
      "  create-item        Create a STAC item\n",
      "  download           Download NOAA C-CAP data into a target directory\n"
     ]
    }
   ],
   "metadata": {}
  },
  {
   "cell_type": "markdown",
   "source": [
    "And more specific help with an individual command."
   ],
   "metadata": {}
  },
  {
   "cell_type": "code",
   "execution_count": 10,
   "source": [
    "!stac noaa-c-cap create-item --help"
   ],
   "outputs": [
    {
     "output_type": "stream",
     "name": "stdout",
     "text": [
      "Usage: stac noaa-c-cap create-item [OPTIONS] SOURCE DESTINATION\n",
      "\n",
      "  Creates a STAC Item\n",
      "\n",
      "  Args:     source (str): HREF of the Asset associated with the Item\n",
      "  destination (str): An HREF for the STAC Collection     xml (str): HREF to\n",
      "  the metadata XML file     cogify (bool): Use a Cloud-Optimized GeoTIFF\n",
      "  version of the source     file as the data asset\n",
      "\n",
      "Options:\n",
      "  -x, --xml TEXT          HREF to the metadata XML file.\n",
      "  --cogify / --no-cogify  Use a Cloud-Optimized GeoTIFF version of the input\n",
      "                          file as the data asset.\n",
      "\n",
      "  --help                  Show this message and exit.\n"
     ]
    }
   ],
   "metadata": {}
  },
  {
   "cell_type": "markdown",
   "source": [
    "To create a STAC collection for _all_ NOAA C-CAP data, simply run:"
   ],
   "metadata": {}
  },
  {
   "cell_type": "code",
   "execution_count": 5,
   "source": [
    "!stac noaa-c-cap create-collection destination-directory"
   ],
   "outputs": [
    {
     "output_type": "stream",
     "name": "stdout",
     "text": [
      "Creating STAC item from https://coast.noaa.gov/htdata/raster1/landcover/bulkdownload/30m_lc/conus_1975_ccap_landcover_20200311.tif\n",
      "Creating STAC item from https://coast.noaa.gov/htdata/raster1/landcover/bulkdownload/30m_lc/conus_1985_ccap_landcover_20200311.tif\n",
      "Creating STAC item from https://coast.noaa.gov/htdata/raster1/landcover/bulkdownload/30m_lc/conus_1996_ccap_landcover_20200311.tif\n",
      "Creating STAC item from https://coast.noaa.gov/htdata/raster1/landcover/bulkdownload/30m_lc/conus_2001_ccap_landcover_20200311.tif\n",
      "Creating STAC item from https://coast.noaa.gov/htdata/raster1/landcover/bulkdownload/30m_lc/conus_2006_ccap_landcover_20200311.tif\n",
      "Creating STAC item from https://coast.noaa.gov/htdata/raster1/landcover/bulkdownload/30m_lc/conus_2010_ccap_landcover_20200311.tif\n",
      "Creating STAC item from https://coast.noaa.gov/htdata/raster1/landcover/bulkdownload/30m_lc/conus_2016_ccap_landcover_20200311.tif\n",
      "Creating STAC item from https://coast.noaa.gov/htdata/raster1/landcover/bulkdownload/30m_lc/hi_1992_mosaic_ccap_land_cover.tif\n",
      "Creating STAC item from https://coast.noaa.gov/htdata/raster1/landcover/bulkdownload/30m_lc/hi_2001_mosaic_ccap_land_cover.tif\n",
      "Creating STAC item from https://coast.noaa.gov/htdata/raster1/landcover/bulkdownload/30m_lc/hi_2005_mosaic_ccap_land_cover.tif\n",
      "Creating STAC item from https://coast.noaa.gov/htdata/raster1/landcover/bulkdownload/30m_lc/pr_2010_ccap_hr_land_cover20170214_30m.tif\n",
      "Creating STAC item from https://coast.noaa.gov/htdata/raster1/landcover/bulkdownload/30m_lc/conus_1992_ccap_landcover_20201019.tif\n"
     ]
    }
   ],
   "metadata": {}
  },
  {
   "cell_type": "markdown",
   "source": [
    "## 3. Using the stactools dataset package from within Python code"
   ],
   "metadata": {}
  },
  {
   "cell_type": "markdown",
   "source": [
    "So far we've used Jupyter Notebooks' IPython [line magic](https://ipython.readthedocs.io/en/stable/interactive/magics.html) to work with stactools packages on the command line, but it's also possible to use them within Python scripts."
   ],
   "metadata": {}
  },
  {
   "cell_type": "code",
   "execution_count": 6,
   "source": [
    "from stactools.noaa_c_cap import stac\n",
    "\n",
    "tiff_href = 'https://coast.noaa.gov/htdata/raster1/landcover/bulkdownload/30m_lc/conus_2006_ccap_landcover_20200311.tif'\n",
    "stac.create_item(tiff_href)"
   ],
   "outputs": [
    {
     "output_type": "execute_result",
     "data": {
      "text/plain": [
       "<Item id=conus_2006_ccap_landcover_20200311>"
      ]
     },
     "metadata": {},
     "execution_count": 6
    }
   ],
   "metadata": {}
  }
 ],
 "metadata": {
  "kernelspec": {
   "name": "python3",
   "display_name": "Python 3.9.7 64-bit ('noaa-c-cap': virtualenv)"
  },
  "language_info": {
   "codemirror_mode": {
    "name": "ipython",
    "version": 3
   },
   "file_extension": ".py",
   "mimetype": "text/x-python",
   "name": "python",
   "nbconvert_exporter": "python",
   "pygments_lexer": "ipython3",
   "version": "3.9.7"
  },
  "interpreter": {
   "hash": "2c96a8eb967415e2730e1b89ae28b31de815939be26af7b4da2cc69eed0fcb4e"
  }
 },
 "nbformat": 4,
 "nbformat_minor": 5
}